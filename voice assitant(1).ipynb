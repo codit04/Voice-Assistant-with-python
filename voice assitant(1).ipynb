{
 "cells": [
  {
   "cell_type": "markdown",
   "id": "1e148f26",
   "metadata": {},
   "source": [
    "## Execute this first!\n",
    ">0"
   ]
  },
  {
   "cell_type": "code",
   "execution_count": 20,
   "id": "2e9bb6aa",
   "metadata": {},
   "outputs": [],
   "source": [
    "import subprocess\n",
    "import time\n",
    "import os\n",
    "from gtts import gTTS\n",
    "import webbrowser\n",
    "import speech_recognition as sr\n",
    "import requests \n",
    "import bs4\n",
    "from bs4 import BeautifulSoup\n"
   ]
  },
  {
   "cell_type": "markdown",
   "id": "3b9cab2b",
   "metadata": {},
   "source": [
    "### Function to get the first link from the web search\n",
    ">1"
   ]
  },
  {
   "cell_type": "code",
   "execution_count": 2,
   "id": "7f8c153a",
   "metadata": {},
   "outputs": [],
   "source": [
    "\n",
    "def firstlink(search):\n",
    "\n",
    "    url = 'https://www.google.com/search'\n",
    "\n",
    "    headers = {\n",
    "        'Accept' : '*/*',\n",
    "        'Accept-Language': 'en-US,en;q=0.5',\n",
    "        'User-Agent': 'Mozilla/5.0 (Windows NT 10.0; Win64; x64) AppleWebKit/537.36 (KHTML, like Gecko) Chrome/98.0.4758.82',\n",
    "    }\n",
    "    parameters = {'q': search}\n",
    "\n",
    "    content = requests.get(url, headers = headers, params = parameters).text\n",
    "    soup = BeautifulSoup(content, 'html.parser')\n",
    "\n",
    "    search = soup.find(id = 'search')\n",
    "    first_link = search.find('a')\n",
    "\n",
    "    return first_link['href']"
   ]
  },
  {
   "cell_type": "markdown",
   "id": "49acc7ce",
   "metadata": {},
   "source": [
    " * Main program to be executed \n",
    " >2\n",
    " "
   ]
  },
  {
   "cell_type": "code",
   "execution_count": 11,
   "id": "70f0d609",
   "metadata": {},
   "outputs": [
    {
     "ename": "OSError",
     "evalue": "No Default Input Device Available",
     "output_type": "error",
     "traceback": [
      "\u001b[1;31m---------------------------------------------------------------------------\u001b[0m",
      "\u001b[1;31mOSError\u001b[0m                                   Traceback (most recent call last)",
      "\u001b[1;32mC:\\Users\\TEMPCS~1.001\\AppData\\Local\\Temp/ipykernel_804/2715099875.py\u001b[0m in \u001b[0;36m<module>\u001b[1;34m\u001b[0m\n\u001b[0;32m      1\u001b[0m \u001b[0mchrome_path\u001b[0m \u001b[1;33m=\u001b[0m \u001b[1;34m'open -na /Applications/Google\\ Chrome.app --args --new-window %s'\u001b[0m\u001b[1;33m\u001b[0m\u001b[1;33m\u001b[0m\u001b[0m\n\u001b[0;32m      2\u001b[0m \u001b[1;33m\u001b[0m\u001b[0m\n\u001b[1;32m----> 3\u001b[1;33m \u001b[1;32mwith\u001b[0m \u001b[0msr\u001b[0m\u001b[1;33m.\u001b[0m\u001b[0mMicrophone\u001b[0m\u001b[1;33m(\u001b[0m\u001b[1;33m)\u001b[0m \u001b[1;32mas\u001b[0m \u001b[0msource\u001b[0m\u001b[1;33m:\u001b[0m\u001b[1;33m\u001b[0m\u001b[1;33m\u001b[0m\u001b[0m\n\u001b[0m\u001b[0;32m      4\u001b[0m     \u001b[0mprint\u001b[0m\u001b[1;33m(\u001b[0m\u001b[1;34m\"Talk\"\u001b[0m\u001b[1;33m)\u001b[0m\u001b[1;33m\u001b[0m\u001b[1;33m\u001b[0m\u001b[0m\n\u001b[0;32m      5\u001b[0m     \u001b[0mr\u001b[0m \u001b[1;33m=\u001b[0m \u001b[0msr\u001b[0m\u001b[1;33m.\u001b[0m\u001b[0mRecognizer\u001b[0m\u001b[1;33m(\u001b[0m\u001b[1;33m)\u001b[0m\u001b[1;33m\u001b[0m\u001b[1;33m\u001b[0m\u001b[0m\n",
      "\u001b[1;32mC:\\ProgramData\\Anaconda3\\lib\\site-packages\\speech_recognition\\__init__.py\u001b[0m in \u001b[0;36m__init__\u001b[1;34m(self, device_index, sample_rate, chunk_size)\u001b[0m\n\u001b[0;32m     84\u001b[0m                 \u001b[1;32massert\u001b[0m \u001b[1;36m0\u001b[0m \u001b[1;33m<=\u001b[0m \u001b[0mdevice_index\u001b[0m \u001b[1;33m<\u001b[0m \u001b[0mcount\u001b[0m\u001b[1;33m,\u001b[0m \u001b[1;34m\"Device index out of range ({} devices available; device index should be between 0 and {} inclusive)\"\u001b[0m\u001b[1;33m.\u001b[0m\u001b[0mformat\u001b[0m\u001b[1;33m(\u001b[0m\u001b[0mcount\u001b[0m\u001b[1;33m,\u001b[0m \u001b[0mcount\u001b[0m \u001b[1;33m-\u001b[0m \u001b[1;36m1\u001b[0m\u001b[1;33m)\u001b[0m\u001b[1;33m\u001b[0m\u001b[1;33m\u001b[0m\u001b[0m\n\u001b[0;32m     85\u001b[0m             \u001b[1;32mif\u001b[0m \u001b[0msample_rate\u001b[0m \u001b[1;32mis\u001b[0m \u001b[1;32mNone\u001b[0m\u001b[1;33m:\u001b[0m  \u001b[1;31m# automatically set the sample rate to the hardware's default sample rate if not specified\u001b[0m\u001b[1;33m\u001b[0m\u001b[1;33m\u001b[0m\u001b[0m\n\u001b[1;32m---> 86\u001b[1;33m                 \u001b[0mdevice_info\u001b[0m \u001b[1;33m=\u001b[0m \u001b[0maudio\u001b[0m\u001b[1;33m.\u001b[0m\u001b[0mget_device_info_by_index\u001b[0m\u001b[1;33m(\u001b[0m\u001b[0mdevice_index\u001b[0m\u001b[1;33m)\u001b[0m \u001b[1;32mif\u001b[0m \u001b[0mdevice_index\u001b[0m \u001b[1;32mis\u001b[0m \u001b[1;32mnot\u001b[0m \u001b[1;32mNone\u001b[0m \u001b[1;32melse\u001b[0m \u001b[0maudio\u001b[0m\u001b[1;33m.\u001b[0m\u001b[0mget_default_input_device_info\u001b[0m\u001b[1;33m(\u001b[0m\u001b[1;33m)\u001b[0m\u001b[1;33m\u001b[0m\u001b[1;33m\u001b[0m\u001b[0m\n\u001b[0m\u001b[0;32m     87\u001b[0m                 \u001b[1;32massert\u001b[0m \u001b[0misinstance\u001b[0m\u001b[1;33m(\u001b[0m\u001b[0mdevice_info\u001b[0m\u001b[1;33m.\u001b[0m\u001b[0mget\u001b[0m\u001b[1;33m(\u001b[0m\u001b[1;34m\"defaultSampleRate\"\u001b[0m\u001b[1;33m)\u001b[0m\u001b[1;33m,\u001b[0m \u001b[1;33m(\u001b[0m\u001b[0mfloat\u001b[0m\u001b[1;33m,\u001b[0m \u001b[0mint\u001b[0m\u001b[1;33m)\u001b[0m\u001b[1;33m)\u001b[0m \u001b[1;32mand\u001b[0m \u001b[0mdevice_info\u001b[0m\u001b[1;33m[\u001b[0m\u001b[1;34m\"defaultSampleRate\"\u001b[0m\u001b[1;33m]\u001b[0m \u001b[1;33m>\u001b[0m \u001b[1;36m0\u001b[0m\u001b[1;33m,\u001b[0m \u001b[1;34m\"Invalid device info returned from PyAudio: {}\"\u001b[0m\u001b[1;33m.\u001b[0m\u001b[0mformat\u001b[0m\u001b[1;33m(\u001b[0m\u001b[0mdevice_info\u001b[0m\u001b[1;33m)\u001b[0m\u001b[1;33m\u001b[0m\u001b[1;33m\u001b[0m\u001b[0m\n\u001b[0;32m     88\u001b[0m                 \u001b[0msample_rate\u001b[0m \u001b[1;33m=\u001b[0m \u001b[0mint\u001b[0m\u001b[1;33m(\u001b[0m\u001b[0mdevice_info\u001b[0m\u001b[1;33m[\u001b[0m\u001b[1;34m\"defaultSampleRate\"\u001b[0m\u001b[1;33m]\u001b[0m\u001b[1;33m)\u001b[0m\u001b[1;33m\u001b[0m\u001b[1;33m\u001b[0m\u001b[0m\n",
      "\u001b[1;32mC:\\ProgramData\\Anaconda3\\lib\\site-packages\\pyaudio.py\u001b[0m in \u001b[0;36mget_default_input_device_info\u001b[1;34m(self)\u001b[0m\n\u001b[0;32m    947\u001b[0m         \"\"\"\n\u001b[0;32m    948\u001b[0m \u001b[1;33m\u001b[0m\u001b[0m\n\u001b[1;32m--> 949\u001b[1;33m         \u001b[0mdevice_index\u001b[0m \u001b[1;33m=\u001b[0m \u001b[0mpa\u001b[0m\u001b[1;33m.\u001b[0m\u001b[0mget_default_input_device\u001b[0m\u001b[1;33m(\u001b[0m\u001b[1;33m)\u001b[0m\u001b[1;33m\u001b[0m\u001b[1;33m\u001b[0m\u001b[0m\n\u001b[0m\u001b[0;32m    950\u001b[0m         \u001b[1;32mreturn\u001b[0m \u001b[0mself\u001b[0m\u001b[1;33m.\u001b[0m\u001b[0mget_device_info_by_index\u001b[0m\u001b[1;33m(\u001b[0m\u001b[0mdevice_index\u001b[0m\u001b[1;33m)\u001b[0m\u001b[1;33m\u001b[0m\u001b[1;33m\u001b[0m\u001b[0m\n\u001b[0;32m    951\u001b[0m \u001b[1;33m\u001b[0m\u001b[0m\n",
      "\u001b[1;31mOSError\u001b[0m: No Default Input Device Available"
     ]
    }
   ],
   "source": [
    "chrome_path = 'open -na /Applications/Google\\ Chrome.app --args --new-window %s'\n",
    "\n",
    "with sr.Microphone() as source:\n",
    "    print(\"Talk\")\n",
    "    r = sr.Recognizer()\n",
    "    audio_text = r.listen(source, 10, 5)\n",
    "    print(\"Time over, thanks\")\n",
    "\n",
    "    \n",
    "    try:\n",
    "        print(\"Text: \"+r.recognize_google(audio_text))\n",
    "        print(\"Text:\"+r.recognize_google(audio_text, language = \"ta-IN\"))\n",
    "\n",
    "    except:\n",
    "         print(\"Sorry, I did not get that\")\n",
    "text = r.recognize_google(audio_text)\n",
    "if 'play' in text:\n",
    "    play()\n",
    "elif 'time' in text:\n",
    "    t = time.localtime()\n",
    "    current_time = time.strftime(\"%H:%M:%S\", t)\n",
    "    text=current_time\n",
    "    language = 'en' \n",
    "    speech = gTTS(text = text, lang = language, slow=False)\n",
    "    speech.save('import_txt.wav')\n",
    "    os.system('start import_txt.wav')\n"
   ]
  },
  {
   "cell_type": "markdown",
   "id": "e776d0be",
   "metadata": {},
   "source": [
    "* function that decides what the play command should do \n",
    "\n",
    ">3"
   ]
  },
  {
   "cell_type": "code",
   "execution_count": 5,
   "id": "1b0c2ca4",
   "metadata": {},
   "outputs": [],
   "source": [
    "def play():\n",
    "    url = 'https://www.google.com/search?q='+text\n",
    "    if ('pacman' or 'tic tac toe' or 'tetris' ) in text:\n",
    "        webbrowser.open_new_tab(url)\n",
    "    else:\n",
    "        webbrowser.open_new_tab(firstlink(url))"
   ]
  },
  {
   "cell_type": "markdown",
   "id": "51e6a69c",
   "metadata": {},
   "source": [
    "function that converts text to voice "
   ]
  },
  {
   "cell_type": "code",
   "execution_count": 10,
   "id": "521f9afd",
   "metadata": {},
   "outputs": [
    {
     "data": {
      "text/plain": [
       "0"
      ]
     },
     "execution_count": 10,
     "metadata": {},
     "output_type": "execute_result"
    }
   ],
   "source": [
    "import os\n",
    "from gtts import gTTS\n",
    "text='yena panringa'\n",
    "language = 'ta' # 'en' for english 'ta' for tamil \n",
    "speech = gTTS(text = text, lang = language, slow=False)\n",
    "speech.save('import_txt.wav')\n",
    "os.system('start import_txt.wav')"
   ]
  },
  {
   "cell_type": "code",
   "execution_count": 18,
   "id": "f4947a9f",
   "metadata": {},
   "outputs": [
    {
     "data": {
      "text/plain": [
       "1"
      ]
     },
     "execution_count": 18,
     "metadata": {},
     "output_type": "execute_result"
    }
   ],
   "source": []
  },
  {
   "cell_type": "code",
   "execution_count": 22,
   "id": "d72c80b0",
   "metadata": {},
   "outputs": [
    {
     "data": {
      "text/plain": [
       "<Popen: returncode: None args: 'C:\\\\Windows\\\\System32\\\\cmd'>"
      ]
     },
     "execution_count": 22,
     "metadata": {},
     "output_type": "execute_result"
    }
   ],
   "source": [
    "#System commands\n",
    "subprocess.Popen(\"C:\\\\Windows\\\\System32\\\\cmd\") #This will launch notepad But you can enter the path of an executable and this will launch it.\n"
   ]
  },
  {
   "cell_type": "code",
   "execution_count": 42,
   "id": "3a8bc92f",
   "metadata": {},
   "outputs": [
    {
     "data": {
      "text/plain": [
       "0"
      ]
     },
     "execution_count": 42,
     "metadata": {},
     "output_type": "execute_result"
    }
   ],
   "source": [
    "#reducing volume\n",
    "from ctypes import cast, POINTER\n",
    "from comtypes import CLSCTX_ALL\n",
    "from pycaw.pycaw import AudioUtilities, IAudioEndpointVolume\n",
    "import math\n",
    "\n",
    "# Get default audio device using PyCAW\n",
    "devices = AudioUtilities.GetSpeakers()\n",
    "interface = devices.Activate(\n",
    "    IAudioEndpointVolume._iid_, CLSCTX_ALL, None)\n",
    "volume = cast(interface, POINTER(IAudioEndpointVolume))\n",
    "\n",
    "# Get current volume \n",
    "currentVolumeDb = volume.GetMasterVolumeLevel()\n",
    "volume.SetMasterVolumeLevel(currentVolumeDb - 5.0, None)\n",
    "# NOTE: -6.0 dB = half volume !"
   ]
  },
  {
   "cell_type": "code",
   "execution_count": 62,
   "id": "b38436b4",
   "metadata": {},
   "outputs": [
    {
     "name": "stdout",
     "output_type": "stream",
     "text": [
      "Temperature is 16°C\n",
      "Time:  Wednesday 9:49 pm\n",
      "Sky Description:  Partly cloudy\n",
      "s\n"
     ]
    }
   ],
   "source": [
    "#Weather\n",
    "import requests\n",
    "from bs4 import BeautifulSoup\n",
    "\n",
    "# enter city name\n",
    "city = \"los angeles\"\n",
    "\n",
    "# creating url and requests instance\n",
    "url = \"https://www.google.com/search?q=\"+\"weather\"+city\n",
    "html = requests.get(url).content\n",
    "\n",
    "# getting raw data\n",
    "soup = BeautifulSoup(html, 'html.parser')\n",
    "temp = soup.find('div', attrs={'class': 'BNeawe iBp4i AP7Wnd'}).text\n",
    "str = soup.find('div', attrs={'class': 'BNeawe tAd8D AP7Wnd'}).text\n",
    "\n",
    "# formatting data\n",
    "data = str.split('\\n')\n",
    "time = data[0]\n",
    "sky = data[1]\n",
    "\n",
    "# getting all div tag\n",
    "listdiv = soup.findAll('div', attrs={'class': 'BNeawe s3v9rd AP7Wnd'})\n",
    "strd = listdiv[5].text\n",
    "\n",
    "# getting other required data\n",
    "pos = strd.find('Wind')\n",
    "other_data = strd[pos:]\n",
    "\n",
    "# printing all data\n",
    "print(\"Temperature is\", temp)\n",
    "print(\"Time: \", time)\n",
    "print(\"Sky Description: \", sky)\n",
    "print(other_data)\n"
   ]
  },
  {
   "cell_type": "code",
   "execution_count": null,
   "id": "6ff8dcaf",
   "metadata": {},
   "outputs": [],
   "source": []
  }
 ],
 "metadata": {
  "kernelspec": {
   "display_name": "Python 3 (ipykernel)",
   "language": "python",
   "name": "python3"
  },
  "language_info": {
   "codemirror_mode": {
    "name": "ipython",
    "version": 3
   },
   "file_extension": ".py",
   "mimetype": "text/x-python",
   "name": "python",
   "nbconvert_exporter": "python",
   "pygments_lexer": "ipython3",
   "version": "3.9.7"
  }
 },
 "nbformat": 4,
 "nbformat_minor": 5
}
