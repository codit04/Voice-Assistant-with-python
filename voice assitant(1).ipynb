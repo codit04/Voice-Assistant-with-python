{
 "cells": [
  {
   "cell_type": "markdown",
   "id": "1e148f26",
   "metadata": {},
   "source": [
    "## Execute this first!\n",
    ">0"
   ]
  },
  {
   "cell_type": "code",
   "execution_count": 1,
   "id": "2e9bb6aa",
   "metadata": {},
   "outputs": [],
   "source": [
    "import subprocess\n",
    "import time\n",
    "import os\n",
    "from gtts import gTTS\n",
    "import webbrowser\n",
    "import speech_recognition as sr\n",
    "import requests \n",
    "import bs4\n",
    "from bs4 import BeautifulSoup\n",
    "from ctypes import cast, POINTER\n",
    "from comtypes import CLSCTX_ALL\n",
    "from pycaw.pycaw import AudioUtilities, IAudioEndpointVolume\n",
    "import math\n",
    "import screen_brightness_control as sbc\n",
    "import cv2"
   ]
  },
  {
   "cell_type": "markdown",
   "id": "3b9cab2b",
   "metadata": {},
   "source": [
    "### Function to get the first link from the web search\n",
    ">1"
   ]
  },
  {
   "cell_type": "code",
   "execution_count": 2,
   "id": "7f8c153a",
   "metadata": {},
   "outputs": [],
   "source": [
    "\n",
    "def firstlink(search):\n",
    "\n",
    "    url = 'https://www.google.com/search?'\n",
    "\n",
    "    headers = {\n",
    "        'Accept' : '*/*',\n",
    "        'Accept-Language': 'en-US,en;q=0.5',\n",
    "        'User-Agent': 'Mozilla/5.0 (Windows NT 10.0; Win64; x64) AppleWebKit/537.36 (KHTML, like Gecko) Chrome/98.0.4758.82',\n",
    "    }\n",
    "    parameters = {'q': search}\n",
    "\n",
    "    content = requests.get(url, headers = headers, params = parameters).text\n",
    "    soup = BeautifulSoup(content, 'html.parser')\n",
    "\n",
    "    search = soup.find(id = 'search')\n",
    "    first_link = search.find('a')\n",
    "\n",
    "    return first_link['href']"
   ]
  },
  {
   "cell_type": "code",
   "execution_count": 3,
   "id": "b2d75c19",
   "metadata": {},
   "outputs": [],
   "source": [
    "def listen(language='en',time=5):\n",
    "    chrome_path = 'open -na /Applications/Google\\ Chrome.app --args --new-window %s'\n",
    "    with sr.Microphone() as source:\n",
    "        print(\"Talk\")\n",
    "        r = sr.Recognizer()\n",
    "        audio_text = r.listen(source, 10, time)\n",
    "        print(\"Time over, thanks\")\n",
    "\n",
    "\n",
    "        try:\n",
    "            text = r.recognize_google(audio_text)\n",
    "            print(\"Gotcha!\")\n",
    "            \n",
    "\n",
    "        except:\n",
    "             print(\"Sorry, I did not get that\")\n",
    "    return text"
   ]
  },
  {
   "cell_type": "markdown",
   "id": "49acc7ce",
   "metadata": {},
   "source": [
    " * Main program to be executed \n",
    " >2\n",
    " "
   ]
  },
  {
   "cell_type": "markdown",
   "id": "e776d0be",
   "metadata": {},
   "source": [
    "* function that decides what the play command should do \n",
    "\n",
    ">3"
   ]
  },
  {
   "cell_type": "code",
   "execution_count": 4,
   "id": "1b0c2ca4",
   "metadata": {},
   "outputs": [],
   "source": [
    "def play(text):\n",
    "    url = 'https://www.google.com/search?q='+text\n",
    "    if ('pacman' or 'tic tac toe' or 'tetris' ) in text:\n",
    "        webbrowser.open_new_tab(url)\n",
    "    else:\n",
    "\n",
    "        webbrowser.open_new_tab(firstlink(url))\n",
    "        "
   ]
  },
  {
   "cell_type": "markdown",
   "id": "51e6a69c",
   "metadata": {},
   "source": [
    "function for the weather command\n"
   ]
  },
  {
   "cell_type": "code",
   "execution_count": 5,
   "id": "521f9afd",
   "metadata": {},
   "outputs": [],
   "source": [
    "\n",
    "def weather(city='coimbatore'):\n",
    "    url = \"https://www.google.com/search?q=\"+\"weather\"+city\n",
    "    html = requests.get(url).content\n",
    "    soup = BeautifulSoup(html, 'html.parser')\n",
    "    temp = soup.find('div', attrs={'class': 'BNeawe iBp4i AP7Wnd'}).text\n",
    "    str = soup.find('div', attrs={'class': 'BNeawe tAd8D AP7Wnd'}).text\n",
    "    data = str.split('\\n')\n",
    "    time = data[0]\n",
    "    sky = data[1]\n",
    "    listdiv = soup.findAll('div', attrs={'class': 'BNeawe s3v9rd AP7Wnd'})\n",
    "    strd = listdiv[5].text\n",
    "    pos = strd.find('Wind')\n",
    "    other_data = strd[pos:]\n",
    "    text=[\"Temperature is \", temp ,\" Time : \", time ,\" Sky Description: \", sky , other_data]\n",
    "    speaken(\"\".join(text))\n"
   ]
  },
  {
   "cell_type": "markdown",
   "id": "04587cf1",
   "metadata": {},
   "source": [
    "function that converts text to voice (english)"
   ]
  },
  {
   "cell_type": "code",
   "execution_count": 6,
   "id": "f4947a9f",
   "metadata": {},
   "outputs": [],
   "source": [
    "def speaken(texty):\n",
    "    text=texty\n",
    "    language = 'en' # 'en' for english 'ta' for tamil \n",
    "    speech = gTTS(text = text, lang = language, slow=False)\n",
    "    speech.save('import_txt.wav')\n",
    "    os.system('start import_txt.wav')"
   ]
  },
  {
   "cell_type": "markdown",
   "id": "b1caf920",
   "metadata": {},
   "source": [
    "function to increase/reduce brightness "
   ]
  },
  {
   "cell_type": "code",
   "execution_count": 7,
   "id": "b49796ac",
   "metadata": {},
   "outputs": [],
   "source": [
    "def brightness(num):\n",
    "    if num==1:\n",
    "         \n",
    "        sbc.set_brightness(sum(sbc.get_brightness())+10)\n",
    "    else:\n",
    "         \n",
    "        sbc.set_brightness(sum(sbc.get_brightness())-5)"
   ]
  },
  {
   "cell_type": "markdown",
   "id": "044b0aaa",
   "metadata": {},
   "source": [
    "Function that invokes camera\n"
   ]
  },
  {
   "cell_type": "code",
   "execution_count": 8,
   "id": "2f2bb5af",
   "metadata": {},
   "outputs": [],
   "source": [
    "\n",
    "def openCam():\n",
    "\n",
    "    vid = cv2.VideoCapture(0)\n",
    "\n",
    "    while(True):\n",
    "        ret, frame = vid.read()\n",
    "        cv2.imshow('frame', frame)\n",
    "        #press spacebar to quit\n",
    "        if cv2.waitKey(1) & 0xFF == ord(' '):\n",
    "            break\n",
    "\n",
    "    vid.release()\n",
    "\n",
    "    cv2.destroyAllWindows()\n"
   ]
  },
  {
   "cell_type": "code",
   "execution_count": 9,
   "id": "3a8bc92f",
   "metadata": {},
   "outputs": [],
   "source": [
    "#reducing volume\n",
    "\n",
    "# Get default audio device using PyCAW\n",
    "devices = AudioUtilities.GetSpeakers()\n",
    "interface = devices.Activate(\n",
    "    IAudioEndpointVolume._iid_, CLSCTX_ALL, None)\n",
    "volume = cast(interface, POINTER(IAudioEndpointVolume))\n",
    "\n",
    "# Get current volume \n",
    "currentVolumeDb = volume.GetMasterVolumeLevel()\n",
    "if (volume.GetMasterVolumeLevel()!=-65.25 ):\n",
    "    volume.SetMasterVolumeLevel(currentVolumeDb -5.0, None)\n"
   ]
  },
  {
   "cell_type": "code",
   "execution_count": null,
   "id": "b38436b4",
   "metadata": {},
   "outputs": [],
   "source": [
    "\n",
    "devices = AudioUtilities.GetSpeakers()\n",
    "interface = devices.Activate(\n",
    "    IAudioEndpointVolume._iid_, CLSCTX_ALL, None)\n",
    "volume = cast(interface, POINTER(IAudioEndpointVolume))\n",
    "\n",
    "currentVolumeDb = volume.GetMasterVolumeLevel()\n",
    "if (volume.GetMasterVolumeLevel()!=-65.25):\n",
    "    volume.SetMasterVolumeLevel(currentVolumeDb -5.0, None)\n",
    "else:\n",
    "    \n",
    "    \n",
    "    volume.SetMasterVolumeLevel(currentVolumeDb +2.0, None)"
   ]
  },
  {
   "cell_type": "code",
   "execution_count": null,
   "id": "6ff8dcaf",
   "metadata": {},
   "outputs": [],
   "source": [
    "\n",
    "devices = AudioUtilities.GetSpeakers()\n",
    "interface = devices.Activate(\n",
    "    \n",
    "    \n",
    "    \n",
    "    IAudioEndpointVolume._iid_, CLSCTX_ALL, None)\n",
    "volume = cast(interface, POINTER(IAudioEndpointVolume))\n",
    "\n",
    "currentVolumeDb = volume.GetMasterVolumeLevel()\n",
    "if (volume.GetMasterVolumeLevel()!=-65.25):\n",
    "    volume.SetMasterVolumeLevel(-65.25, None)\n"
   ]
  },
  {
   "cell_type": "code",
   "execution_count": null,
   "id": "ac5050ee",
   "metadata": {},
   "outputs": [],
   "source": [
    "volume.GetVolumeRange()"
   ]
  },
  {
   "cell_type": "code",
   "execution_count": null,
   "id": "17c50f6e",
   "metadata": {},
   "outputs": [],
   "source": [
    "\n",
    "devices = AudioUtilities.GetSpeakers()\n",
    "interface = devices.Activate(\n",
    "    \n",
    "    \n",
    "    \n",
    "    IAudioEndpointVolume._iid_, CLSCTX_ALL, None)\n",
    "volume = cast(interface, POINTER(IAudioEndpointVolume))\n",
    "\n",
    "volume.GetMasterVolumeLevel()"
   ]
  },
  {
   "cell_type": "code",
   "execution_count": 20,
   "id": "70f0d609",
   "metadata": {},
   "outputs": [
    {
     "name": "stdout",
     "output_type": "stream",
     "text": [
      "Talk\n",
      "Time over, thanks\n",
      "Gotcha!\n",
      "Talk\n",
      "Time over, thanks\n",
      "Gotcha!\n",
      "open maps\n"
     ]
    }
   ],
   "source": [
    "\n",
    "\n",
    "def decide ():\n",
    "    text=listen()\n",
    "    \n",
    "    if 'play' in text:\n",
    "        speaken(\"playing\")\n",
    "        play(text)\n",
    "    elif 'time' in text:\n",
    "        t = time.localtime()\n",
    "        current_time = time.strftime(\"%H:%M:%S\", t)\n",
    "        speaken(\"\".join(current_time))\n",
    "    elif 'weather' in text:\n",
    "        speaken(\"which place's weather do you want to know ?\")\n",
    "        txt=listen(time=15)\n",
    "        weather(city=txt)\n",
    "    elif 'brightness' in text:\n",
    "        \n",
    "        if 'increase' in text:\n",
    "            speaken('increasing brightness')\n",
    "            brightness(1)\n",
    "        elif 'decrease' in text:\n",
    "            speaken('decreasing brightness')\n",
    "            brightness(0)\n",
    "        else:\n",
    "            speaken(\"Do you want the brightness to be reduced or increased ?\")\n",
    "            \n",
    "            txt =listen(time=15)\n",
    "            if 'increase' in txt:\n",
    "                speaken('increasing brightness')\n",
    "                brightness(1)\n",
    "            elif 'decrease' in txt:\n",
    "                speaken('decreasing brightness')\n",
    "                brightness(0)\n",
    "    elif 'memes' in text:\n",
    "        speaken('showing memes ')\n",
    "        webbrowser.open_new_tab(firstlink('reddit dank memes'))\n",
    "    elif 'news' in text:\n",
    "        speaken('showing news')\n",
    "        webbrowser.open_new_tab('https://news.google.com/topstories?hl=en-IN&gl=IN&ceid=IN:en')\n",
    "    elif 'notes' in text:\n",
    "        speaken('opening notes')\n",
    "        webbrowser.open_new_tab('https://keep.google.com/u/0/#home')\n",
    "        \n",
    "    elif 'camera' in text:\n",
    "        speaken(\"opening camera , press spacebar to quit\")\n",
    "        openCam()\n",
    "        speaken(\"such a cutie\")\n",
    "    elif 'map' or 'maps'in text:\n",
    "        speaken(\"Which place are you planning to go ?\")\n",
    "        txt=listen(time=15)\n",
    "        webbrowser.open('https://www.google.com/maps/place/' + txt)\n",
    "        speaken('Have a happy and a safe journey ')\n",
    "    \n",
    "    \n",
    "    elif ('meaning' or 'means' or 'mean' in text):\n",
    "        speaken(\"Which word's meaning are you looking for ?\")\n",
    "        txt=listen(time=15)\n",
    "        \n",
    "        webbrowser.open_new_tab('https://www.urbandictionary.com/define.php?term='+txt)\n",
    "        speaken(\"Hope you got it !\")\n",
    "        \n",
    "\n",
    "        \n",
    "\n",
    "    \n",
    "    print(text)\n",
    "    \n",
    "decide()"
   ]
  },
  {
   "cell_type": "code",
   "execution_count": null,
   "id": "9b449280",
   "metadata": {},
   "outputs": [],
   "source": []
  }
 ],
 "metadata": {
  "kernelspec": {
   "display_name": "Python 3 (ipykernel)",
   "language": "python",
   "name": "python3"
  },
  "language_info": {
   "codemirror_mode": {
    "name": "ipython",
    "version": 3
   },
   "file_extension": ".py",
   "mimetype": "text/x-python",
   "name": "python",
   "nbconvert_exporter": "python",
   "pygments_lexer": "ipython3",
   "version": "3.9.7"
  }
 },
 "nbformat": 4,
 "nbformat_minor": 5
}
