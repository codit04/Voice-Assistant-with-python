{
 "cells": [
  {
   "cell_type": "markdown",
   "id": "1e148f26",
   "metadata": {},
   "source": [
    "## Execute this first!\n",
    ">0"
   ]
  },
  {
   "cell_type": "code",
   "execution_count": 38,
   "id": "2e9bb6aa",
   "metadata": {},
   "outputs": [],
   "source": [
    "import subprocess\n",
    "import time\n",
    "import os\n",
    "import random\n",
    "from gtts import gTTS\n",
    "import webbrowser\n",
    "import speech_recognition as sr\n",
    "import requests \n",
    "import bs4\n",
    "from bs4 import BeautifulSoup\n",
    "from ctypes import cast, POINTER\n",
    "from comtypes import CLSCTX_ALL\n",
    "from pycaw.pycaw import AudioUtilities, IAudioEndpointVolume\n",
    "import math\n",
    "import screen_brightness_control as sbc\n",
    "import cv2"
   ]
  },
  {
   "cell_type": "markdown",
   "id": "3b9cab2b",
   "metadata": {},
   "source": [
    "### Function to get the first link from the web search\n",
    ">1"
   ]
  },
  {
   "cell_type": "code",
   "execution_count": 2,
   "id": "7f8c153a",
   "metadata": {},
   "outputs": [],
   "source": [
    "\n",
    "def firstlink(search):\n",
    "\n",
    "    url = 'https://www.google.com/search?'\n",
    "\n",
    "    headers = {\n",
    "        'Accept' : '*/*',\n",
    "        'Accept-Language': 'en-US,en;q=0.5',\n",
    "        'User-Agent': 'Mozilla/5.0 (Windows NT 10.0; Win64; x64) AppleWebKit/537.36 (KHTML, like Gecko) Chrome/98.0.4758.82',\n",
    "    }\n",
    "    parameters = {'q': search}\n",
    "\n",
    "    content = requests.get(url, headers = headers, params = parameters).text\n",
    "    soup = BeautifulSoup(content, 'html.parser')\n",
    "\n",
    "    search = soup.find(id = 'search')\n",
    "    first_link = search.find('a')\n",
    "\n",
    "    return first_link['href']"
   ]
  },
  {
   "cell_type": "code",
   "execution_count": 3,
   "id": "8fd19586",
   "metadata": {},
   "outputs": [],
   "source": [
    "def listen(language='en',time=5):\n",
    "    chrome_path = 'open -na /Applications/Google\\ Chrome.app --args --new-window %s'\n",
    "    with sr.Microphone() as source:\n",
    "        print(\"Talk\")\n",
    "        r = sr.Recognizer()\n",
    "        audio_text = r.listen(source, 10, time)\n",
    "        print(\"Time over, thanks\")\n",
    "\n",
    "\n",
    "        try:\n",
    "            texty = r.recognize_google(audio_text)\n",
    "            print(\"Gotcha!\")\n",
    "            \n",
    "\n",
    "        except:\n",
    "             print(\"Sorry, I did not get that\")\n",
    "    return texty"
   ]
  },
  {
   "cell_type": "markdown",
   "id": "49acc7ce",
   "metadata": {},
   "source": [
    " * Main program to be executed \n",
    " >2\n",
    " "
   ]
  },
  {
   "cell_type": "markdown",
   "id": "e776d0be",
   "metadata": {},
   "source": [
    "* function that decides what the play command should do \n",
    "\n",
    ">3"
   ]
  },
  {
   "cell_type": "code",
   "execution_count": 4,
   "id": "1b0c2ca4",
   "metadata": {},
   "outputs": [],
   "source": [
    "def play(text):\n",
    "    url = 'https://www.google.com/search?q='+text\n",
    "    if ('pacman' or 'tic tac toe' or 'tetris' ) in text:\n",
    "        webbrowser.open_new_tab(url)\n",
    "    else:\n",
    "\n",
    "        webbrowser.open_new_tab(firstlink(url))\n",
    "        "
   ]
  },
  {
   "cell_type": "markdown",
   "id": "51e6a69c",
   "metadata": {},
   "source": [
    "function for the weather command\n"
   ]
  },
  {
   "cell_type": "code",
   "execution_count": 5,
   "id": "521f9afd",
   "metadata": {},
   "outputs": [],
   "source": [
    "\n",
    "def weather(city='coimbatore'):\n",
    "    url = \"https://www.google.com/search?q=\"+\"weather\"+city\n",
    "    html = requests.get(url).content\n",
    "    soup = BeautifulSoup(html, 'html.parser')\n",
    "    temp = soup.find('div', attrs={'class': 'BNeawe iBp4i AP7Wnd'}).text\n",
    "    str = soup.find('div', attrs={'class': 'BNeawe tAd8D AP7Wnd'}).text\n",
    "    data = str.split('\\n')\n",
    "    time = data[0]\n",
    "    sky = data[1]\n",
    "    listdiv = soup.findAll('div', attrs={'class': 'BNeawe s3v9rd AP7Wnd'})\n",
    "    strd = listdiv[5].text\n",
    "    pos = strd.find('Wind')\n",
    "    other_data = strd[pos:]\n",
    "    text=[\"Temperature is \", temp ,\" Time : \", time ,\" Sky Description: \", sky , other_data]\n",
    "    speaken(\"\".join(text))\n"
   ]
  },
  {
   "cell_type": "markdown",
   "id": "04587cf1",
   "metadata": {},
   "source": [
    "function that converts text to voice (english)"
   ]
  },
  {
   "cell_type": "code",
   "execution_count": 6,
   "id": "f4947a9f",
   "metadata": {},
   "outputs": [],
   "source": [
    "def speaken(texty):\n",
    "    text=texty\n",
    "    language = 'en' # 'en' for english 'ta' for tamil \n",
    "    speech = gTTS(text = text, lang = language, slow=False)\n",
    "    speech.save('import_txt.wav')\n",
    "    os.system('start import_txt.wav')"
   ]
  },
  {
   "cell_type": "markdown",
   "id": "6f017b0c",
   "metadata": {},
   "source": [
    "function to increase/reduce brightness "
   ]
  },
  {
   "cell_type": "code",
   "execution_count": 7,
   "id": "f41452eb",
   "metadata": {},
   "outputs": [],
   "source": [
    "def brightness(num):\n",
    "    if num==1:\n",
    "         \n",
    "        sbc.set_brightness(sum(sbc.get_brightness())+10)\n",
    "    else:\n",
    "         \n",
    "        sbc.set_brightness(sum(sbc.get_brightness())-5)"
   ]
  },
  {
   "cell_type": "markdown",
   "id": "7a4a1c65",
   "metadata": {},
   "source": [
    "Function that invokes camera\n"
   ]
  },
  {
   "cell_type": "code",
   "execution_count": 8,
   "id": "715e80db",
   "metadata": {},
   "outputs": [],
   "source": [
    "\n",
    "def openCam():\n",
    "\n",
    "    vid = cv2.VideoCapture(0)\n",
    "\n",
    "    while(True):\n",
    "        ret, frame = vid.read()\n",
    "        cv2.imshow('frame', frame)\n",
    "        #press spacebar to quit\n",
    "        if cv2.waitKey(1) & 0xFF == ord(' '):\n",
    "            break\n",
    "\n",
    "    vid.release()\n",
    "\n",
    "    cv2.destroyAllWindows()\n"
   ]
  },
  {
   "cell_type": "markdown",
   "id": "a5f2cc13",
   "metadata": {},
   "source": [
    "facts!"
   ]
  },
  {
   "cell_type": "code",
   "execution_count": 41,
   "id": "9ef802fc",
   "metadata": {},
   "outputs": [],
   "source": [
    "def facts():\n",
    "    flist=[\n",
    "        \"Three presidents, all Founding Fathers—John Adams, Thomas Jefferson, and James Monroe—died on July 4. Presidents Adams and Jefferson also died the same year, 1826; President Monroe died in 1831. Coincidence? You decide. (constitutioncenter.org\",\n",
    "    \"The Barbie doll’s full name is Barbara Millicent Roberts, from Willows, Wisconsin. Her birthday is March 9, 1959, when she was first displayed at the New York Toy Fair. (barbiemedia.com)\",\n",
    "     \" There actually aren’t 57 varieties of Heinz ketchup, and never were. Company founder H.J. Heinz thought his product should have a number, and he liked 57. Hint: Hit the glass bottle on the 57, not the bottom, to get the ketchup to flow. (heinz.com)\",\n",
    "\n",
    "    \" One of President John Tyler’s grandsons is still alive today—and he was born in 1790. How is this possible? President Tyler, the 10th US president, was 63 when his son Lyon Tyler was born in 1853; Lyon’s son was born when he was 75. President Tyler’s living grandson, Harrison Tyler is 92. Lyon’s other son Lyon Jr. passed away in 2020 at the age of 95. The Tyler family still maintains the President’s home, Sherwood Forest Plantation in Virginia. (sherwoodforest.org)\",\n",
    "\n",
    "    \"The tallest man ever recorded was American giant Robert Wadlow (1918–1940), who stood 8 feet 11 inches. Wadlow’s size was the result of abnormally enlarged pituitary gland. (guinnessworldrecords.com) \",\n",
    "\n",
    "    \"The tallest living man is 37-year-old Sultan Kosen, from Turkey, who is 8 feet, 2.8 inches, who set the record in 2009. His growth is also due to a pituitary issue. (guinnessworldrecords.com) \",\n",
    "\n",
    "    \"The oldest person ever to have lived (whose age could be authenticated), a French woman named Jeanne Louise Calment, was 122 years old when she died in 1997. (guinnessworldrecord.com) \",\n",
    "\n",
    "    \"Sliced bread was first manufactured by machine and sold in the 1920s by the Chillicothe Baking Company in Missouri. It was the greatest thing since…unsliced bread? (chllicothenews.com) \",\n",
    "\n",
    "    \"The Earl of Sandwich, John Montagu, who lived in the 1700s, reportedly invented the sandwich so he wouldn’t have to leave his gambling table to eat. (pbs.org) \",\n",
    "\n",
    "    \"The first college football game was played on November 6, 1869, between Rutgers and Princeton (then known as the College of New Jersey) in New Brunswick, New Jersey. Rutgers won. (ncaa.com) \",\n",
    "\n",
    "    \"Experiments in universities have actually been carried out to figure out how many licks it takes to get to the center of a Tootsie Pop, both with machine and human lickers (because this is important scientific knowledge!). The results ranged from 252 to 411. (tootsie.com) \",\n",
    "\n",
    "    \"The Four Corners is the only spot in the US where you can stand in four states at once: Utah, Colorado, Arizona and New Mexico. \",\n",
    "\n",
    "    \"Canada is south of Detroit (just look at a map). \",\n",
    "    \" The original name for the search engine Google was Backrub. It was renamed Google after the googol, which is the number one followed by 100 zeros. (about.google) \",\n",
    "\n",
    "    \"The oldest-known living land animal is a tortoise named Jonathan, who is 187 years old. He was born in 1832 and has lived on the island of St. Helena in the Atlantic Ocean since 1882. (guinnessworldrecords.com) \",\n",
    "\n",
    "    \"Bats are the only mammal that can actually fly. \",\n",
    "\n",
    "    \"Wombats are the only animal whose poop is cube-shaped. This is due to how its intestines form the feces. The animals then stack the cubes to mark their territory. (bbc.com) \",\n",
    "    \"The most common wild bird in the world isn’t the sparrow or blue jay—it’s the red-billed quelea, which live in Africa and have an estimated population of 1.5 billion. (audubon.org) \",\n",
    "\n",
    "    \"The heart of the blue whale, the largest animal on earth, is five feet long and weighs 400 pounds. The whale in total weighs 40,000 pounds. (nationalgeographic.com) \",\n",
    "\n",
    "    \"For comparison, an elephant’s heart weighs around 30 pounds. And a human heart? A mere 10 ounces. \",\n",
    "\n",
    "    \"Elephants can’t jump. (smithsonianmag.com) \",\n",
    "\n",
    "\n",
    "    \"Octopuses have three hearts. \",\n",
    "\n",
    "    \"Cows don’t actually have four stomachs; they have one stomach with four compartments. (fda.gov) \",\n",
    "\n",
    "    \"The platypus doesn’t have a stomach at all: Their esophagus goes straight to their intestines. (nationalgeographic.com) \",\n",
    "\n",
    "    \"This is one animal myth that’s true: Eating parts of a pufferfish can kill you because, in a defense mechanism to ward off predators, it contains a deadly chemical called tetrodotoxin. There’s enough in one pufferfish to kill 30 people—and there’s no antidote. Still, pufferfish, called fugu, is a highly-prized delicacy in Japan, but can only be prepared by well-trained chefs. (nationalgeographic.com) \",\n",
    "    \"Polar bears have black skin. And actually, their fur isn’t white—it’s see-through, so it appears white as it reflects light. \",\n",
    "\n",
    "    \"Tigers’ skin is actually striped, just like their fur. Also, no two fur patterns are alike\",\n",
    "\n",
    "    \"Flamingoes are only pink because of chemicals called carotenoids in the algae and fish (which also eat the algae) they eat; their feathers are grayish white when they’re born. \",\n",
    "    \"Mosquitoes are the deadliest animal in the world: They kill more people than any other creature, due to the diseases they carry. (cdc.gov) \",\n",
    "\n",
    "    \"What do Miss Piggy and Yoda have in common? They were both voiced by the same person, puppeteer Frank Oz. \",\n",
    "\n",
    "    \"Psycho was the first movie to show a toilet flushing. (npr.com) \",\n",
    "    \" One of the most famous movie lines in history was never said. We often quote, Play it again, Sam, from Casablanca; but the real line is, Play it, Sam. Play As Time Goes By. \",\n",
    "\n",
    "    \"The green code in The Matrix was actually created from symbols in the code designer’s wife’s sushi cookbook. (cnet.com) \",\n",
    "\n",
    "    \"The wedding of Princess Diana and Prince Charles was watched by 750 million people worldwide in 1981; sadly, 2.5 billion watched her funeral in 1997. (bbc.com) \",\n",
    "\n",
    "    \" With 3.572 billion viewers, half the world’s population watched the 2018 FIFA World Cup of soccer (or football, as many international fans call it), which is held every four years. That number is on par with the 2016 Summer Olympics; but only a quarter of the world watched the less-popular Winter Olympics in 2018. (fifa.com) \",\n",
    "    \"There are no muscles in your fingers: Their function is controlled by muscles in your palms and arms. (assh.org) \",\n",
    "\n",
    "    \"The hardest working muscle in your body is your heart: It pumps more than 2,000 gallons of blood a day and beats more than 2.5 billion times in a 70-year life span. (heart.org) \",\n",
    "    \"Skin is the body’s largest organ. \",\n",
    "\n",
    "    \"The earth’s circumference is 24,900 miles. (nasa.gov)]\"]\n",
    "    x=random.randint(1,40)\n",
    "    return flist[x]"
   ]
  },
  {
   "cell_type": "markdown",
   "id": "93933236",
   "metadata": {},
   "source": [
    "greeting!\n"
   ]
  },
  {
   "cell_type": "code",
   "execution_count": 45,
   "id": "fd4888aa",
   "metadata": {},
   "outputs": [],
   "source": [
    "def greet():\n",
    "    t = time.localtime()\n",
    "    if t.tm_hour<12:\n",
    "        return \"Good Morning!\"\n",
    "    elif t.tm_hour>12 and t.tm_hour<16:\n",
    "        return \"Good Afternoon !\"\n",
    "    elif t.tm_hour>16 and t.tm_hour<19:\n",
    "        return \"Good evening \"\n",
    "    elif t.tm_hour>19 and t.tm_hour<4:\n",
    "        return \"good night\""
   ]
  },
  {
   "cell_type": "code",
   "execution_count": 9,
   "id": "3a8bc92f",
   "metadata": {},
   "outputs": [],
   "source": [
    "#reducing volume\n",
    "\n",
    "# Get default audio device using PyCAW\n",
    "devices = AudioUtilities.GetSpeakers()\n",
    "interface = devices.Activate(\n",
    "    IAudioEndpointVolume._iid_, CLSCTX_ALL, None)\n",
    "volume = cast(interface, POINTER(IAudioEndpointVolume))\n",
    "\n",
    "# Get current volume \n",
    "currentVolumeDb = volume.GetMasterVolumeLevel()\n",
    "if (volume.GetMasterVolumeLevel()!=-65.25 ):\n",
    "    volume.SetMasterVolumeLevel(currentVolumeDb -5.0, None)\n"
   ]
  },
  {
   "cell_type": "code",
   "execution_count": null,
   "id": "f4c4f5a6",
   "metadata": {},
   "outputs": [],
   "source": []
  },
  {
   "cell_type": "code",
   "execution_count": 10,
   "id": "b38436b4",
   "metadata": {},
   "outputs": [],
   "source": [
    "\n",
    "devices = AudioUtilities.GetSpeakers()\n",
    "interface = devices.Activate(\n",
    "    IAudioEndpointVolume._iid_, CLSCTX_ALL, None)\n",
    "volume = cast(interface, POINTER(IAudioEndpointVolume))\n",
    "\n",
    "currentVolumeDb = volume.GetMasterVolumeLevel()\n",
    "if (volume.GetMasterVolumeLevel()!=-65.25):\n",
    "    volume.SetMasterVolumeLevel(currentVolumeDb -5.0, None)\n",
    "else:\n",
    "    \n",
    "    \n",
    "    volume.SetMasterVolumeLevel(currentVolumeDb +2.0, None)"
   ]
  },
  {
   "cell_type": "code",
   "execution_count": 11,
   "id": "6ff8dcaf",
   "metadata": {},
   "outputs": [],
   "source": [
    "\n",
    "devices = AudioUtilities.GetSpeakers()\n",
    "interface = devices.Activate(\n",
    "    \n",
    "    \n",
    "    \n",
    "    IAudioEndpointVolume._iid_, CLSCTX_ALL, None)\n",
    "volume = cast(interface, POINTER(IAudioEndpointVolume))\n",
    "\n",
    "currentVolumeDb = volume.GetMasterVolumeLevel()\n",
    "if (volume.GetMasterVolumeLevel()!=-65.25):\n",
    "    volume.SetMasterVolumeLevel(-65.25, None)\n"
   ]
  },
  {
   "cell_type": "code",
   "execution_count": 12,
   "id": "ac5050ee",
   "metadata": {},
   "outputs": [
    {
     "data": {
      "text/plain": [
       "(-65.25, 0.0, 0.75)"
      ]
     },
     "execution_count": 12,
     "metadata": {},
     "output_type": "execute_result"
    }
   ],
   "source": [
    "volume.GetVolumeRange()"
   ]
  },
  {
   "cell_type": "code",
   "execution_count": 13,
   "id": "17c50f6e",
   "metadata": {},
   "outputs": [
    {
     "data": {
      "text/plain": [
       "-65.25"
      ]
     },
     "execution_count": 13,
     "metadata": {},
     "output_type": "execute_result"
    }
   ],
   "source": [
    "\n",
    "devices = AudioUtilities.GetSpeakers()\n",
    "interface = devices.Activate(\n",
    "    \n",
    "    \n",
    "    \n",
    "    IAudioEndpointVolume._iid_, CLSCTX_ALL, None)\n",
    "volume = cast(interface, POINTER(IAudioEndpointVolume))\n",
    "\n",
    "volume.GetMasterVolumeLevel()"
   ]
  },
  {
   "cell_type": "code",
   "execution_count": 64,
   "id": "70f0d609",
   "metadata": {},
   "outputs": [
    {
     "name": "stdout",
     "output_type": "stream",
     "text": [
      "Talk\n",
      "Time over, thanks\n",
      "Gotcha!\n",
      "Talk\n",
      "Time over, thanks\n",
      "Gotcha!\n",
      "map\n"
     ]
    }
   ],
   "source": [
    "\n",
    "\n",
    "def decide ():\n",
    "    speaken(greet())\n",
    "    text=listen()\n",
    "    \n",
    "    if 'play' in text:\n",
    "        speaken(\"playing\")\n",
    "        play(text)\n",
    "    elif 'time' in text:\n",
    "        t = time.localtime()\n",
    "        current_time = time.strftime(\"%H:%M:%S\", t)\n",
    "        speaken(\"\".join(current_time))\n",
    "    elif 'weather' in text:\n",
    "        speaken(\"which place's weather do you want to know ?\")\n",
    "        txt=listen(time=15)\n",
    "        weather(city=txt)\n",
    "    elif 'brightness' in text:\n",
    "        \n",
    "        if 'increase' in text:\n",
    "            speaken('increasing brightness')\n",
    "            brightness(1)\n",
    "        elif 'decrease' in text:\n",
    "            speaken('decreasing brightness')\n",
    "            brightness(0)\n",
    "        else:\n",
    "            speaken(\"Do you want the brightness to be reduced or increased ?\")\n",
    "            \n",
    "            txt =listen(time=15)\n",
    "            if 'increase' in txt:\n",
    "                speaken('increasing brightness')\n",
    "                brightness(1)\n",
    "            elif 'decrease' in txt:\n",
    "                speaken('decreasing brightness')\n",
    "                brightness(0)\n",
    "    elif 'memes' in text:\n",
    "        speaken('showing memes ')\n",
    "        webbrowser.open_new_tab(firstlink('reddit dank memes'))\n",
    "    elif 'news' in text:\n",
    "        speaken('showing news')\n",
    "        webbrowser.open_new_tab('https://news.google.com/topstories?hl=en-IN&gl=IN&ceid=IN:en')\n",
    "    elif 'notes' in text:\n",
    "        speaken('opening notes')\n",
    "        webbrowser.open_new_tab('https://keep.google.com/u/0/#home')\n",
    "    elif('what is' in text):\n",
    "        speaken(\"What do you want to know about ?\")\n",
    "        txt=listen(time=15)\n",
    "        webbrowser.open_new_tab(\"https://en.wikipedia.org/wiki/\"+txt)\n",
    "        speaken('hope you got it !')    \n",
    "    elif 'camera' in text:\n",
    "        speaken(\"opening camera , press spacebar to quit\")\n",
    "        openCam()\n",
    "        speaken(\"such a cutie\")\n",
    "\n",
    "\n",
    "    elif 'map'  in text:\n",
    "        speaken(\"Which place are you planning to go ?\")\n",
    "        txt=listen(time=15)\n",
    "        webbrowser.open('https://www.google.com/maps/place/' + txt)\n",
    "        speaken('Have a happy and a safe journey ')  \n",
    "    elif 'meaning' or 'means' or 'mean' in text:\n",
    "        speaken(\"Which word's meaning are you looking for ?\")\n",
    "        txt=listen(time=15)\n",
    "        \n",
    "        webbrowser.open_new_tab('https://www.urbandictionary.com/define.php?term='+txt)\n",
    "        speaken(\"Hope you got it !\")\n",
    "    elif 'fact' in text:\n",
    "        speaken(facts())\n",
    "    else:\n",
    "        speaken(\"sorry , we are working on it\")\n",
    "    print(text)\n",
    "    \n",
    "decide()"
   ]
  },
  {
   "cell_type": "code",
   "execution_count": 21,
   "id": "ede51580",
   "metadata": {},
   "outputs": [
    {
     "name": "stdout",
     "output_type": "stream",
     "text": [
      "Requirement already satisfied: nbconvert in c:\\users\\lalit\\anaconda3\\lib\\site-packages (6.1.0)\n",
      "Requirement already satisfied: pygments>=2.4.1 in c:\\users\\lalit\\anaconda3\\lib\\site-packages (from nbconvert) (2.10.0)\n",
      "Requirement already satisfied: mistune<2,>=0.8.1 in c:\\users\\lalit\\anaconda3\\lib\\site-packages (from nbconvert) (0.8.4)\n",
      "Requirement already satisfied: testpath in c:\\users\\lalit\\anaconda3\\lib\\site-packages (from nbconvert) (0.5.0)\n",
      "Requirement already satisfied: pandocfilters>=1.4.1 in c:\\users\\lalit\\anaconda3\\lib\\site-packages (from nbconvert) (1.4.3)\n",
      "Requirement already satisfied: jinja2>=2.4 in c:\\users\\lalit\\anaconda3\\lib\\site-packages (from nbconvert) (2.11.3)\n",
      "Requirement already satisfied: nbformat>=4.4 in c:\\users\\lalit\\anaconda3\\lib\\site-packages (from nbconvert) (5.1.3)\n",
      "Requirement already satisfied: bleach in c:\\users\\lalit\\anaconda3\\lib\\site-packages (from nbconvert) (4.0.0)\n",
      "Requirement already satisfied: defusedxml in c:\\users\\lalit\\anaconda3\\lib\\site-packages (from nbconvert) (0.7.1)\n",
      "Requirement already satisfied: nbclient<0.6.0,>=0.5.0 in c:\\users\\lalit\\anaconda3\\lib\\site-packages (from nbconvert) (0.5.3)\n",
      "Requirement already satisfied: entrypoints>=0.2.2 in c:\\users\\lalit\\anaconda3\\lib\\site-packages (from nbconvert) (0.3)\n",
      "Requirement already satisfied: jupyterlab-pygments in c:\\users\\lalit\\anaconda3\\lib\\site-packages (from nbconvert) (0.1.2)\n",
      "Requirement already satisfied: jupyter-core in c:\\users\\lalit\\anaconda3\\lib\\site-packages (from nbconvert) (4.8.1)\n",
      "Requirement already satisfied: traitlets>=5.0 in c:\\users\\lalit\\anaconda3\\lib\\site-packages (from nbconvert) (5.1.0)\n",
      "Requirement already satisfied: MarkupSafe>=0.23 in c:\\users\\lalit\\anaconda3\\lib\\site-packages (from jinja2>=2.4->nbconvert) (1.1.1)\n",
      "Requirement already satisfied: nest-asyncio in c:\\users\\lalit\\anaconda3\\lib\\site-packages (from nbclient<0.6.0,>=0.5.0->nbconvert) (1.5.1)\n",
      "Requirement already satisfied: async-generator in c:\\users\\lalit\\anaconda3\\lib\\site-packages (from nbclient<0.6.0,>=0.5.0->nbconvert) (1.10)\n",
      "Requirement already satisfied: jupyter-client>=6.1.5 in c:\\users\\lalit\\anaconda3\\lib\\site-packages (from nbclient<0.6.0,>=0.5.0->nbconvert) (6.1.12)\n",
      "Requirement already satisfied: python-dateutil>=2.1 in c:\\users\\lalit\\anaconda3\\lib\\site-packages (from jupyter-client>=6.1.5->nbclient<0.6.0,>=0.5.0->nbconvert) (2.8.2)\n",
      "Requirement already satisfied: tornado>=4.1 in c:\\users\\lalit\\anaconda3\\lib\\site-packages (from jupyter-client>=6.1.5->nbclient<0.6.0,>=0.5.0->nbconvert) (6.1)\n",
      "Requirement already satisfied: pyzmq>=13 in c:\\users\\lalit\\anaconda3\\lib\\site-packages (from jupyter-client>=6.1.5->nbclient<0.6.0,>=0.5.0->nbconvert) (22.2.1)\n",
      "Requirement already satisfied: pywin32>=1.0 in c:\\users\\lalit\\anaconda3\\lib\\site-packages (from jupyter-core->nbconvert) (228)\n",
      "Requirement already satisfied: ipython-genutils in c:\\users\\lalit\\anaconda3\\lib\\site-packages (from nbformat>=4.4->nbconvert) (0.2.0)\n",
      "Requirement already satisfied: jsonschema!=2.5.0,>=2.4 in c:\\users\\lalit\\anaconda3\\lib\\site-packages (from nbformat>=4.4->nbconvert) (3.2.0)\n",
      "Requirement already satisfied: six>=1.11.0 in c:\\users\\lalit\\anaconda3\\lib\\site-packages (from jsonschema!=2.5.0,>=2.4->nbformat>=4.4->nbconvert) (1.16.0)\n",
      "Requirement already satisfied: pyrsistent>=0.14.0 in c:\\users\\lalit\\anaconda3\\lib\\site-packages (from jsonschema!=2.5.0,>=2.4->nbformat>=4.4->nbconvert) (0.18.0)\n",
      "Requirement already satisfied: setuptools in c:\\users\\lalit\\anaconda3\\lib\\site-packages (from jsonschema!=2.5.0,>=2.4->nbformat>=4.4->nbconvert) (58.0.4)\n",
      "Requirement already satisfied: attrs>=17.4.0 in c:\\users\\lalit\\anaconda3\\lib\\site-packages (from jsonschema!=2.5.0,>=2.4->nbformat>=4.4->nbconvert) (21.2.0)\n",
      "Requirement already satisfied: webencodings in c:\\users\\lalit\\anaconda3\\lib\\site-packages (from bleach->nbconvert) (0.5.1)\n",
      "Requirement already satisfied: packaging in c:\\users\\lalit\\anaconda3\\lib\\site-packages (from bleach->nbconvert) (21.0)\n",
      "Requirement already satisfied: pyparsing>=2.0.2 in c:\\users\\lalit\\anaconda3\\lib\\site-packages (from packaging->bleach->nbconvert) (3.0.4)\n",
      "Note: you may need to restart the kernel to use updated packages.\n"
     ]
    }
   ],
   "source": [
    "pip install nbconvert"
   ]
  },
  {
   "cell_type": "code",
   "execution_count": 44,
   "id": "61d1ea1c",
   "metadata": {},
   "outputs": [],
   "source": []
  },
  {
   "cell_type": "code",
   "execution_count": null,
   "id": "03f9eff9",
   "metadata": {},
   "outputs": [],
   "source": []
  }
 ],
 "metadata": {
  "kernelspec": {
   "display_name": "Python 3 (ipykernel)",
   "language": "python",
   "name": "python3"
  },
  "language_info": {
   "codemirror_mode": {
    "name": "ipython",
    "version": 3
   },
   "file_extension": ".py",
   "mimetype": "text/x-python",
   "name": "python",
   "nbconvert_exporter": "python",
   "pygments_lexer": "ipython3",
   "version": "3.9.7"
  }
 },
 "nbformat": 4,
 "nbformat_minor": 5
}
