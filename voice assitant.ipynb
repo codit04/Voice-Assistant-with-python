{
 "cells": [
  {
   "cell_type": "markdown",
   "id": "1e148f26",
   "metadata": {},
   "source": [
    "## Execute this first!\n",
    ">0"
   ]
  },
  {
   "cell_type": "code",
   "execution_count": null,
   "id": "2e9bb6aa",
   "metadata": {},
   "outputs": [],
   "source": [
    "\n",
    "import time\n",
    "import os\n",
    "from gtts import gTTS\n",
    "import webbrowser\n",
    "import speech_recognition as sr\n",
    "import requests \n",
    "import bs4\n",
    "from bs4 import BeautifulSoup\n"
   ]
  },
  {
   "cell_type": "markdown",
   "id": "3b9cab2b",
   "metadata": {},
   "source": [
    "### Function to get the first link from the web search\n",
    ">1"
   ]
  },
  {
   "cell_type": "code",
   "execution_count": null,
   "id": "7f8c153a",
   "metadata": {},
   "outputs": [],
   "source": [
    "\n",
    "def firstlink(search):\n",
    "\n",
    "    url = 'https://www.google.com/search'\n",
    "\n",
    "    headers = {\n",
    "        'Accept' : '*/*',\n",
    "        'Accept-Language': 'en-US,en;q=0.5',\n",
    "        'User-Agent': 'Mozilla/5.0 (Windows NT 10.0; Win64; x64) AppleWebKit/537.36 (KHTML, like Gecko) Chrome/98.0.4758.82',\n",
    "    }\n",
    "    parameters = {'q': search}\n",
    "\n",
    "    content = requests.get(url, headers = headers, params = parameters).text\n",
    "    soup = BeautifulSoup(content, 'html.parser')\n",
    "\n",
    "    search = soup.find(id = 'search')\n",
    "    first_link = search.find('a')\n",
    "\n",
    "    return first_link['href']"
   ]
  },
  {
   "cell_type": "markdown",
   "id": "49acc7ce",
   "metadata": {},
   "source": [
    " * Main program to be executed \n",
    " >2\n",
    " "
   ]
  },
  {
   "cell_type": "code",
   "execution_count": null,
   "id": "70f0d609",
   "metadata": {},
   "outputs": [],
   "source": [
    "chrome_path = 'open -na /Applications/Google\\ Chrome.app --args --new-window %s'\n",
    "\n",
    "with sr.Microphone() as source:\n",
    "    print(\"Talk\")\n",
    "    r = sr.Recognizer()\n",
    "    audio_text = r.listen(source, 10, 5)\n",
    "    print(\"Time over, thanks\")\n",
    "\n",
    "    \n",
    "    try:\n",
    "        print(\"Text: \"+r.recognize_google(audio_text))\n",
    "        print(\"Text:\"+r.recognize_google(audio_text, language = \"ta-IN\"))\n",
    "\n",
    "    except:\n",
    "         print(\"Sorry, I did not get that\")\n",
    "text = r.recognize_google(audio_text)\n",
    "if 'play' in text:\n",
    "    play()\n",
    "elif 'time' in text:\n",
    "    t = time.localtime()\n",
    "    current_time = time.strftime(\"%H:%M:%S\", t)\n",
    "    text=current_time\n",
    "    language = 'en' \n",
    "    speech = gTTS(text = text, lang = language, slow=False)\n",
    "    speech.save('import_txt.wav')\n",
    "    os.system('start import_txt.wav')\n"
   ]
  },
  {
   "cell_type": "markdown",
   "id": "e776d0be",
   "metadata": {},
   "source": [
    "* function that decides what the play command should do \n",
    "\n",
    ">3"
   ]
  },
  {
   "cell_type": "code",
   "execution_count": null,
   "id": "1b0c2ca4",
   "metadata": {},
   "outputs": [],
   "source": [
    "def play():\n",
    "    url = 'https://www.google.com/search?q='+text\n",
    "    if ('pacman' or 'tic tac toe' or 'tetris' ) in text:\n",
    "        webbrowser.open_new_tab(url)\n",
    "    else:\n",
    "        webbrowser.open_new_tab(firstlink(url))"
   ]
  },
  {
   "cell_type": "markdown",
   "id": "51e6a69c",
   "metadata": {},
   "source": [
    "function that converts text to voice "
   ]
  },
  {
   "cell_type": "code",
   "execution_count": 2,
   "id": "521f9afd",
   "metadata": {},
   "outputs": [
    {
     "data": {
      "text/plain": [
       "0"
      ]
     },
     "execution_count": 2,
     "metadata": {},
     "output_type": "execute_result"
    }
   ],
   "source": [
    "import os\n",
    "from gtts import gTTS\n",
    "text='ennapnringa'\n",
    "language = 'ta' # 'en' for english 'ta' for tamil \n",
    "speech = gTTS(text = text, lang = language, slow=False)\n",
    "speech.save('import_txt.wav')\n",
    "os.system('start import_txt.wav')"
   ]
  },
  {
   "cell_type": "code",
   "execution_count": null,
   "id": "f4947a9f",
   "metadata": {},
   "outputs": [],
   "source": []
  }
 ],
 "metadata": {
  "kernelspec": {
   "display_name": "Python 3 (ipykernel)",
   "language": "python",
   "name": "python3"
  },
  "language_info": {
   "codemirror_mode": {
    "name": "ipython",
    "version": 3
   },
   "file_extension": ".py",
   "mimetype": "text/x-python",
   "name": "python",
   "nbconvert_exporter": "python",
   "pygments_lexer": "ipython3",
   "version": "3.9.7"
  }
 },
 "nbformat": 4,
 "nbformat_minor": 5
}
